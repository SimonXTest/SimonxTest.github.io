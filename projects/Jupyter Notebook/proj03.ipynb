{
 "cells": [
  {
   "cell_type": "markdown",
   "metadata": {},
   "source": [
    "Simon Camilo Baez\n",
    "\n",
    "Project 3 Data Analytics\n",
    "\n",
    "Redacted"
   ]
  },
  {
   "cell_type": "markdown",
   "metadata": {},
   "source": [
    "Profitable ad suggestions for devs - This notebook shows devs what kind of mobile apps can make them the most money (as of 2018). This notebook is designed for devs that want to make free apps that profit from advertisements, and targets an english speaking audience."
   ]
  },
  {
   "cell_type": "code",
   "execution_count": 142,
   "metadata": {},
   "outputs": [],
   "source": [
    "from csv import reader\n",
    "\n",
    "## opens the Android (Google Play) dataset\n",
    "opening = open('googleplaystore2018.csv', encoding='utf8')\n",
    "read = reader(opening)\n",
    "android = list(read)\n",
    "header_android = android[0] ## this is the header\n",
    "android = android[1:] ## This is the data without the header\n",
    "del android[10472]\n",
    "del android[9148]\n",
    "\n",
    "## opens the IOS (App Store) dataset\n",
    "opening = open('applestore2017.csv', encoding='utf8')\n",
    "read = reader(opening)\n",
    "apple = list(read)\n",
    "header_apple = apple[0] ## this is the header\n",
    "apple = apple[1:] ## This is the data without the header\n",
    "\n",
    "## Below is a function to explore the datasets and see what data we are dealing with.\n",
    "\n",
    "def explore_data(dataset, start, end, rows_and_columns=False):\n",
    "    dataset_slice = dataset[start:end]\n",
    "    for row in dataset_slice:\n",
    "        print(row)\n",
    "    if rows_and_columns:\n",
    "        print('\\n') # adds a new (empty) line after it finishes printing rows\n",
    "        print('Number of rows:', len(dataset))\n",
    "        print('Number of columns:', len(dataset[0]))"
   ]
  },
  {
   "cell_type": "code",
   "execution_count": 143,
   "metadata": {},
   "outputs": [
    {
     "name": "stdout",
     "output_type": "stream",
     "text": [
      "['App', 'Category', 'Rating', 'Reviews', 'Size', 'Installs', 'Type', 'Price', 'Content Rating', 'Genres', 'Last Updated', 'Current Ver', 'Android Ver']\n",
      "\n",
      "\n",
      "['Natural recipes for your beauty', 'BEAUTY', '4.7', '1150', '9.8M', '100,000+', 'Free', '0', 'Everyone', 'Beauty', '15-May-18', '4', '4.1 and up']\n",
      "['BestCam Selfie-selfie, beauty camera, photo editor', 'BEAUTY', '3.9', '1739', '21M', '500,000+', 'Free', '0', 'Everyone', 'Beauty', '12-Jul-18', '1.0.6', '4.0.3 and up']\n",
      "['Mirror - Zoom & Exposure -', 'BEAUTY', '3.9', '32090', 'Varies with device', '1,000,000+', 'Free', '0', 'Everyone', 'Beauty', '24-Oct-16', 'Varies with device', 'Varies with device']\n",
      "['Beauty Selfie Camera', 'BEAUTY', '4.2', '2225', '52M', '500,000+', 'Free', '0', 'Everyone', 'Beauty', '28-Feb-18', '1.6', '4.1 and up']\n",
      "\n",
      "\n",
      "Number of rows: 10839\n",
      "Number of columns: 13\n"
     ]
    }
   ],
   "source": [
    "print(header_android)\n",
    "print(\"\\n\")\n",
    "explore_data(android, 100, 104, True)"
   ]
  },
  {
   "cell_type": "code",
   "execution_count": 144,
   "metadata": {},
   "outputs": [
    {
     "name": "stdout",
     "output_type": "stream",
     "text": [
      "['id', 'track_name', 'size_bytes', 'currency', 'price', 'rating_count_tot', 'rating_count_ver', 'user_rating', 'user_rating_ver', 'ver', 'cont_rating', 'prime_genre', 'sup_devices.num', 'ipadSc_urls.num', 'lang.num', 'vpp_lic']\n",
      "\n",
      "\n",
      "['310738695', 'Zillow Real Estate - Homes for Sale & for Rent', '132632576', 'USD', '0', '342969', '88478', '4.5', '4.5', '10.4.5', '4+', 'Lifestyle', '37', '5', '1', '1']\n",
      "['305343404', 'Tumblr', '151573504', 'USD', '0', '334293', '919', '4', '4', '8.6', '17+', 'Social Networking', '37', '5', '16', '1']\n",
      "['403858572', 'Fruit Ninja®', '163801088', 'USD', '0', '327025', '82', '4.5', '4', '2.5.1', '4+', 'Games', '38', '5', '13', '1']\n",
      "\n",
      "\n",
      "Number of rows: 7197\n",
      "Number of columns: 16\n"
     ]
    }
   ],
   "source": [
    "print(header_apple)\n",
    "print(\"\\n\")\n",
    "explore_data(apple, 50, 53, True)"
   ]
  },
  {
   "cell_type": "markdown",
   "metadata": {},
   "source": [
    "Using the code below, we can see that the dataset for google play has duplicates. We need to remove these duplicates before we can proceed."
   ]
  },
  {
   "cell_type": "code",
   "execution_count": 145,
   "metadata": {},
   "outputs": [
    {
     "name": "stdout",
     "output_type": "stream",
     "text": [
      "Number of duplicate apps: 1181\n",
      "\n",
      "\n",
      "Examples of duplicate apps: ['Quick PDF Scanner + OCR FREE', 'Box', 'Google My Business', 'ZOOM Cloud Meetings', 'join.me - Simple Meetings', 'Box', 'Zenefits', 'Google Ads', 'Google My Business', 'Slack', 'FreshBooks Classic', 'Insightly CRM', 'QuickBooks Accounting: Invoicing & Expenses', 'HipChat - Chat Built for Teams', 'Xero Accounting Software']\n"
     ]
    }
   ],
   "source": [
    "duplicate_apps = []\n",
    "unique_apps = []\n",
    "\n",
    "## finds duplicates\n",
    "for app in android:\n",
    "    name = app[0]\n",
    "    if name in unique_apps:\n",
    "        duplicate_apps.append(name)\n",
    "    else:\n",
    "        unique_apps.append(name)\n",
    "    \n",
    "print('Number of duplicate apps:', len(duplicate_apps))\n",
    "print('\\n')\n",
    "print('Examples of duplicate apps:', duplicate_apps[:15])"
   ]
  },
  {
   "cell_type": "markdown",
   "metadata": {},
   "source": [
    "We need to keep the version of the duplicated data that's the most accurate, this should be the most recent duplicate since it will have the most up to date rating. "
   ]
  },
  {
   "cell_type": "code",
   "execution_count": 146,
   "metadata": {},
   "outputs": [
    {
     "name": "stdout",
     "output_type": "stream",
     "text": [
      "['Comunidad De Fe Minitries', 'LIFESTYLE', '5', '19', '11M', '500+', 'Free', '0', 'Everyone', 'Lifestyle', '1-Mar-18', '1.1', '4.1 and up']\n",
      "['Garena Free Fire', 'GAME', '4.5', '5534114', '53M', '100,000,000+', 'Free', '0', 'Teen', 'Action', '3-Aug-18', '1.21.0', '4.0.3 and up']\n",
      "['FE Other Disciplines Engineering Exam Prep', 'FAMILY', 'NaN', '0', '21M', '100+', 'Free', '0', 'Everyone', 'Education', '27-Jul-18', '5.33.3669', '5.0 and up']\n",
      "\n",
      "\n",
      "Number of rows: 9658\n",
      "Number of columns: 13\n"
     ]
    }
   ],
   "source": [
    "reviews_max = {}\n",
    "\n",
    "## finds duplicates, and removes the ones that have less reviews\n",
    "for app in android: \n",
    "    name = app[0]\n",
    "    n_reviews = float(app[3])\n",
    "    if name in reviews_max and reviews_max[name] < n_reviews: \n",
    "        reviews_max[name] = n_reviews\n",
    "    elif name not in reviews_max:\n",
    "        reviews_max[name] = n_reviews\n",
    "\n",
    "## Does the same thing I guess?? I need to consult this with my professor\n",
    "\n",
    "android_clean = []\n",
    "already_added = []\n",
    "\n",
    "for app in android:\n",
    "    name = app[0]\n",
    "    n_reviews = float(app[3])\n",
    "    if n_reviews == reviews_max[name] and name not in already_added:\n",
    "        android_clean.append(app)\n",
    "        already_added.append(name)\n",
    "    elif name not in reviews_max:\n",
    "        reviews_max[name] = n_reviews\n",
    "\n",
    "explore_data(android_clean, 9147, 9150, True)"
   ]
  },
  {
   "cell_type": "code",
   "execution_count": 147,
   "metadata": {},
   "outputs": [
    {
     "name": "stdout",
     "output_type": "stream",
     "text": [
      "['668576857', 'Mister Maker: Let’s Make It! – Design, Draw, Paint, Make and Play', '181036032', 'USD', '2.99', '9', '0', '4.5', '0', '6', '4+', 'Entertainment', '40', '5', '1', '1']\n",
      "['1148046351', 'Cosmolander - Missions in the Solar System', '369460224', 'USD', '2.99', '9', '0', '2.5', '0', '2.0.1', '4+', 'Education', '37', '5', '6', '1']\n",
      "['1179475725', 'Peppa Pig: Party Time', '251977728', 'USD', '0.99', '9', '0', '2', '0', '1.1.6', '4+', 'Education', '40', '5', '1', '1']\n",
      "\n",
      "\n",
      "Number of rows: 6183\n",
      "Number of columns: 16\n"
     ]
    }
   ],
   "source": [
    "android_Eng = []\n",
    "ios_Eng = []\n",
    "\n",
    "for app in android_clean:\n",
    "    n = 0\n",
    "    for letter in app[0]:\n",
    "        letter = ord(letter)\n",
    "        if letter > 127:\n",
    "            n += 1\n",
    "    if n < 4:\n",
    "            android_Eng.append(app)\n",
    "\n",
    "for app in apple:\n",
    "    n = 0\n",
    "    for letter in app[1]:\n",
    "        letter = ord(letter)\n",
    "        if letter > 127:\n",
    "            n += 1\n",
    "    if n < 4:\n",
    "            ios_Eng.append(app)\n",
    "            \n",
    "explore_data(ios_Eng, 5632, 5635, True)"
   ]
  },
  {
   "cell_type": "code",
   "execution_count": 148,
   "metadata": {},
   "outputs": [
    {
     "name": "stdout",
     "output_type": "stream",
     "text": [
      "['564540143', 'Hill Climb Racing', '108322816', 'USD', '0', '108183', '186', '4.5', '4.5', '1.33.0', '9+', 'Games', '37', '5', '1', '1']\n",
      "['297430070', 'Target', '138754048', 'USD', '0', '108131', '13', '3', '2', '8.21.0', '4+', 'Shopping', '37', '0', '1', '1']\n",
      "['667728512', 'Game of War - Fire Age', '220386304', 'USD', '0', '107916', '507', '4', '3', '3.22.510', '9+', 'Games', '37', '5', '29', '1']\n",
      "\n",
      "\n",
      "Number of rows: 3222\n",
      "Number of columns: 16\n"
     ]
    }
   ],
   "source": [
    "android = []\n",
    "apple = []\n",
    "\n",
    "for app in android_Eng:\n",
    "    if app[7] == \"0\":\n",
    "        android.append(app)\n",
    "\n",
    "for app in ios_Eng:\n",
    "    if app[4] == \"0\":\n",
    "        apple.append(app)\n",
    "\n",
    "explore_data(apple, 180, 183, True)"
   ]
  },
  {
   "cell_type": "markdown",
   "metadata": {},
   "source": [
    "To avoid wasting time and money on a app that may not get enough installs, we first make an app that has minimal features and provides a concept, just to see if people like the idea. If people like it, we spend more time on the app and develop it further so it's more fleshed out. If the app is profitable after 6 months, we make a version for the App Store, so we can increase our profits since the app is going to be available to more people. Because of we are going to make a version of the app for the App Store, we also need to make sure that we appeal to people in the App Store."
   ]
  },
  {
   "cell_type": "markdown",
   "metadata": {},
   "source": [
    "To find what kind of app is going to be the most profitable, we need to see what genres get more attention in both stores. We are going to use the Category and Genre column on Google play (column 2 & 10), and the Prime Genre column on the app store (column 12)."
   ]
  },
  {
   "cell_type": "code",
   "execution_count": 149,
   "metadata": {},
   "outputs": [
    {
     "name": "stdout",
     "output_type": "stream",
     "text": [
      "Apple Prime Genre\n",
      "Games : 65.14%\n",
      "Entertainment : 8.83%\n",
      "Photo & Video : 5.56%\n",
      "Education : 4.1%\n",
      "Social Networking : 3.68%\n",
      "Shopping : 2.92%\n",
      "Utilities : 2.82%\n",
      "Sports : 2.4%\n",
      "Music : 2.29%\n",
      "Health & Fitness : 2.26%\n"
     ]
    }
   ],
   "source": [
    "def freq_table(dataset, index, filterer): ## Gets percentages that can be analyzed later\n",
    "    data = {}\n",
    "    new_data = {}\n",
    "    total = 0\n",
    "    if dataset == android: ## The filterer is multiplied by 100 to simplify printing the table, since there are a lot of values for android. In apple, there are not enough apps, so the table is not simplified.\n",
    "        filterer *= 100\n",
    "    elif dataset == apple:\n",
    "        filterer *= 10\n",
    "    ## Note for professor: There is probably a way to do this in a way that works with any data sample of any size, but it would take a lot more time and testing that I would have to do myself.\n",
    "    ## If you see this I probably ran out of time to do that. It's fine anyways, I probably shouldn't even spend so much time trying to do these nitpicks. You could say this answers the questions on Data Analysis (Step 4 Part 3 on my summarized doc). I did answer them on the doc, not sure if I should answer them here\n",
    "    for row in dataset:\n",
    "        total += 1\n",
    "        value = row[index]\n",
    "        if value in data:\n",
    "            data[value] += 1\n",
    "        else:\n",
    "            data[value] = 1\n",
    "    for row in data: ## this function removes categories that are irrelevant, so the data is easier to go through. If there are less apps in a category than the filterer, then those apps won't be included\n",
    "        if data[row] > filterer:\n",
    "            new_data[row] = data[row]\n",
    "        else:\n",
    "            total -= data[row]\n",
    "    \n",
    "    data = new_data\n",
    "    percentages = {}\n",
    "    for row in data:\n",
    "        percentage = (data[row] / total) * 100\n",
    "        percentages[row] = percentage\n",
    "    return percentages\n",
    "\n",
    "def display_table(dataset, index, minpercent): ## Uses the definition from above to organize the percentages, and make them easier to read\n",
    "    table = freq_table(dataset, index, minpercent) ## this is where the definition from before gets referenced\n",
    "    table_display = []\n",
    "    for key in table:\n",
    "        key_val_as_tuple = (table[key], key)\n",
    "        table_display.append(key_val_as_tuple)\n",
    "\n",
    "    table_sorted = sorted(table_display, reverse = True)\n",
    "    for entry in table_sorted:\n",
    "        print(entry[1], ':', round(entry[0], 2), end=\"%\\n\")\n",
    "\n",
    "print(\"Apple Prime Genre\")\n",
    "display_table(apple, 11, 6) #dataset(android, apple), column of genre(number), sets strenght of filter, the higher the less results(1-digit number)"
   ]
  },
  {
   "cell_type": "code",
   "execution_count": 150,
   "metadata": {},
   "outputs": [
    {
     "name": "stdout",
     "output_type": "stream",
     "text": [
      "Social Networking 71548.3\n",
      "Photo & Video 28441.5\n",
      "Games 22788.7\n",
      "Music 57326.5\n",
      "Reference 74942.1\n",
      "Health & Fitness 23298.0\n",
      "Weather 52279.9\n",
      "Utilities 18684.5\n",
      "Travel 28243.8\n",
      "Shopping 26919.7\n",
      "News 21248.0\n",
      "Navigation 86090.3\n",
      "Lifestyle 16485.8\n",
      "Entertainment 14029.8\n",
      "Food & Drink 33333.9\n",
      "Sports 23008.9\n",
      "Book 39758.5\n",
      "Finance 31467.9\n",
      "Education 7004.0\n",
      "Productivity 21028.4\n",
      "Business 7491.1\n",
      "Catalogs 4004.0\n",
      "Medical 612.0\n"
     ]
    }
   ],
   "source": [
    "for genre in freq_table(apple, 11, 0):\n",
    "    total = 0\n",
    "    len_genre = 0\n",
    "    for app in apple:\n",
    "        genre_app = app[11]\n",
    "        if genre_app == genre:\n",
    "            total += float(app[5])\n",
    "            len_genre += 1\n",
    "    average = total / len_genre\n",
    "    print(genre, round(average, 1))"
   ]
  },
  {
   "cell_type": "code",
   "execution_count": 151,
   "metadata": {},
   "outputs": [
    {
     "name": "stdout",
     "output_type": "stream",
     "text": [
      "ART_AND_DESIGN 1986335.1\n",
      "AUTO_AND_VEHICLES 647317.8\n",
      "BEAUTY 513151.9\n",
      "BOOKS_AND_REFERENCE 8767811.9\n",
      "BUSINESS 1712290.1\n",
      "COMICS 817657.3\n",
      "COMMUNICATION 38456119.2\n",
      "DATING 854028.8\n",
      "EDUCATION 1833495.1\n",
      "ENTERTAINMENT 11640705.9\n",
      "EVENTS 253542.2\n",
      "FINANCE 1387692.5\n",
      "FOOD_AND_DRINK 1924897.7\n",
      "HEALTH_AND_FITNESS 4188822.0\n",
      "HOUSE_AND_HOME 1331540.6\n",
      "LIBRARIES_AND_DEMO 638503.7\n",
      "LIFESTYLE 1437816.3\n",
      "GAME 15588015.6\n",
      "FAMILY 3697848.2\n",
      "MEDICAL 120550.6\n",
      "SOCIAL 23253652.1\n",
      "SHOPPING 7036877.3\n",
      "PHOTOGRAPHY 17840110.4\n",
      "SPORTS 3638640.1\n",
      "TRAVEL_AND_LOCAL 13984077.7\n",
      "TOOLS 10801391.3\n",
      "PERSONALIZATION 5201482.6\n",
      "PRODUCTIVITY 16787331.3\n",
      "PARENTING 542603.6\n",
      "WEATHER 5074486.2\n",
      "VIDEO_PLAYERS 24727872.5\n",
      "NEWS_AND_MAGAZINES 9549178.5\n",
      "MAPS_AND_NAVIGATION 4056941.8\n"
     ]
    }
   ],
   "source": [
    "for genre in freq_table(android, 1, 0):\n",
    "    total = 0\n",
    "    len_category = 0\n",
    "    for category in android:\n",
    "        category_app = category[1]\n",
    "        if category_app == genre:\n",
    "            category[5] = category[5].replace(\"+\", \"\")\n",
    "            category[5] = category[5].replace(\",\", \"\")\n",
    "            total += float(category[5])\n",
    "            len_category += 1\n",
    "\n",
    "    average = total / len_category\n",
    "    print(genre, round(average, 1))"
   ]
  },
  {
   "cell_type": "markdown",
   "metadata": {},
   "source": [
    "Conclusions\n",
    "\n",
    "An application to take pictures could be very profitable. These applications tend to get a lot of installs, and while there is a lot of competition, we can still stand out. In order to stand out, the application could provide versatility in how their pictures are created. The app can also provide filters, and could provide effects that appear on screen. Today we have the technology of making our devices detect our facial expresions, which could be very useful in making effects that interact with the user, or imitate the user. The app could also work as a photo editor, so final touches could be applied in the picture after it was taken, the photo editor could provide a simple version for beginners so it's easier to understand, but providing tools for advanced users could provide a lot of freedom, which will make our app more likely for people to share and install. Taking a picture may take a few seconds, but editing a picture could take minutes or an hour, which means more time spent watching ads, and also means more profit."
   ]
  }
 ],
 "metadata": {
  "kernelspec": {
   "display_name": "Python 3",
   "language": "python",
   "name": "python3"
  },
  "language_info": {
   "codemirror_mode": {
    "name": "ipython",
    "version": 3
   },
   "file_extension": ".py",
   "mimetype": "text/x-python",
   "name": "python",
   "nbconvert_exporter": "python",
   "pygments_lexer": "ipython3",
   "version": "3.9.0"
  }
 },
 "nbformat": 4,
 "nbformat_minor": 4
}
